{
 "cells": [
  {
   "cell_type": "code",
   "execution_count": null,
   "id": "df9d78ba",
   "metadata": {},
   "outputs": [],
   "source": [
    "import torch"
   ]
  },
  {
   "cell_type": "markdown",
   "id": "7dca7f59",
   "metadata": {},
   "source": [
    "# Let's create a sample tensor to work with"
   ]
  },
  {
   "cell_type": "code",
   "execution_count": 2,
   "id": "0f65d35d",
   "metadata": {},
   "outputs": [
    {
     "name": "stdout",
     "output_type": "stream",
     "text": [
      "Original Tensor:\n",
      "tensor([[ 1,  2,  3,  4],\n",
      "        [ 5,  6,  7,  8],\n",
      "        [ 9, 10, 11, 12]])\n"
     ]
    }
   ],
   "source": [
    "# A 3x4 tensor\n",
    "tensor = torch.tensor([[1, 2, 3, 4],\n",
    "                      [5, 6, 7, 8],\n",
    "                      [9, 10, 11, 12]])\n",
    "print(f\"Original Tensor:\\n{tensor}\")"
   ]
  },
  {
   "cell_type": "markdown",
   "id": "57d716a2",
   "metadata": {},
   "source": [
    "# 1. Indexing and Slicing"
   ]
  },
  {
   "cell_type": "code",
   "execution_count": 3,
   "id": "2f6f4d6c",
   "metadata": {},
   "outputs": [
    {
     "name": "stdout",
     "output_type": "stream",
     "text": [
      "First Row:tensor([1, 2, 3, 4])\n"
     ]
    }
   ],
   "source": [
    "# Access the first row\n",
    "first_row = tensor[0]\n",
    "print(f\"First Row:{first_row}\")"
   ]
  },
  {
   "cell_type": "code",
   "execution_count": 4,
   "id": "dd3fc6f2",
   "metadata": {},
   "outputs": [
    {
     "name": "stdout",
     "output_type": "stream",
     "text": [
      "First Column:tensor([1, 5, 9])\n"
     ]
    }
   ],
   "source": [
    "# Access the first column\n",
    "first_col = tensor[:, 0]\n",
    "print(f\"First Column:{first_col}\")"
   ]
  },
  {
   "cell_type": "code",
   "execution_count": 5,
   "id": "530879d4",
   "metadata": {},
   "outputs": [
    {
     "name": "stdout",
     "output_type": "stream",
     "text": [
      "Element at [1, 2]: 7\n",
      "Value of the element: 7\n"
     ]
    }
   ],
   "source": [
    "# Access a specific element\n",
    "element = tensor[1, 2]\n",
    "print(f\"Element at [1, 2]: {element}\")\n",
    "print(f\"Value of the element: {element.item()}\") # .item() gets the Python number value from a single-element tensor"
   ]
  },
  {
   "cell_type": "code",
   "execution_count": 6,
   "id": "8e424b2e",
   "metadata": {},
   "outputs": [
    {
     "name": "stdout",
     "output_type": "stream",
     "text": [
      "First two rows:\n",
      "tensor([[1, 2, 3, 4],\n",
      "        [5, 6, 7, 8]])\n"
     ]
    }
   ],
   "source": [
    "# Get the first two rows\n",
    "first_two_rows = tensor[0:2] # or tensor[:2]\n",
    "print(f\"First two rows:\\n{first_two_rows}\")"
   ]
  },
  {
   "cell_type": "code",
   "execution_count": 7,
   "id": "47d3f00d",
   "metadata": {},
   "outputs": [
    {
     "name": "stdout",
     "output_type": "stream",
     "text": [
      "Last two columns:\n",
      "tensor([[ 3,  4],\n",
      "        [ 7,  8],\n",
      "        [11, 12]])\n"
     ]
    }
   ],
   "source": [
    "# Get the last two columns\n",
    "last_two_cols = tensor[:, 2:4] # or tensor[:, -2:]\n",
    "print(f\"Last two columns:\\n{last_two_cols}\")"
   ]
  },
  {
   "cell_type": "code",
   "execution_count": 8,
   "id": "c0a7a64b",
   "metadata": {},
   "outputs": [
    {
     "name": "stdout",
     "output_type": "stream",
     "text": [
      "Subgrid (rows 1-2, cols 1-2):\n",
      "tensor([[ 6,  7],\n",
      "        [10, 11]])\n"
     ]
    }
   ],
   "source": [
    "# Get a subgrid\n",
    "subgrid = tensor[1:3, 1:3]\n",
    "print(f\"Subgrid (rows 1-2, cols 1-2):\\n{subgrid}\")"
   ]
  },
  {
   "cell_type": "markdown",
   "id": "6230ae85",
   "metadata": {},
   "source": [
    "# 2. Basic Arithmetic Operations"
   ]
  },
  {
   "cell_type": "code",
   "execution_count": 9,
   "id": "3ac2fc57",
   "metadata": {},
   "outputs": [
    {
     "name": "stdout",
     "output_type": "stream",
     "text": [
      "Tensor A:\n",
      "tensor([[ 1,  2,  3,  4],\n",
      "        [ 5,  6,  7,  8],\n",
      "        [ 9, 10, 11, 12]])\n",
      "Tensor B:\n",
      "tensor([[3., 3., 3., 3.],\n",
      "        [3., 3., 3., 3.],\n",
      "        [3., 3., 3., 3.]])\n"
     ]
    }
   ],
   "source": [
    "# Create another tensor for operations\n",
    "tensor_b = torch.ones(3, 4) * 3 # A 3x4 tensor filled with 3s\n",
    "print(f\"Tensor A:\\n{tensor}\")\n",
    "print(f\"Tensor B:\\n{tensor_b}\")"
   ]
  },
  {
   "cell_type": "code",
   "execution_count": 10,
   "id": "93ffd0a4",
   "metadata": {},
   "outputs": [
    {
     "name": "stdout",
     "output_type": "stream",
     "text": [
      "Addition (A + B):\n",
      "tensor([[ 4.,  5.,  6.,  7.],\n",
      "        [ 8.,  9., 10., 11.],\n",
      "        [12., 13., 14., 15.]])\n"
     ]
    }
   ],
   "source": [
    "# Addition\n",
    "sum_tensor = tensor + tensor_b\n",
    "# Alternative syntax: sum_tensor = torch.add(tensor, tensor_b)\n",
    "print(f\"Addition (A + B):\\n{sum_tensor}\")"
   ]
  },
  {
   "cell_type": "code",
   "execution_count": 11,
   "id": "38e98bc9",
   "metadata": {},
   "outputs": [
    {
     "name": "stdout",
     "output_type": "stream",
     "text": [
      "Subtraction (A - B):\n",
      "tensor([[-2., -1.,  0.,  1.],\n",
      "        [ 2.,  3.,  4.,  5.],\n",
      "        [ 6.,  7.,  8.,  9.]])\n"
     ]
    }
   ],
   "source": [
    "# Subtraction\n",
    "diff_tensor = tensor - tensor_b\n",
    "# Alternative syntax: diff_tensor = torch.sub(tensor, tensor_b)\n",
    "print(f\"Subtraction (A - B):\\n{diff_tensor}\")"
   ]
  },
  {
   "cell_type": "code",
   "execution_count": 12,
   "id": "6899ce02",
   "metadata": {},
   "outputs": [
    {
     "name": "stdout",
     "output_type": "stream",
     "text": [
      "Element-wise Multiplication (A * B):\n",
      "tensor([[ 3.,  6.,  9., 12.],\n",
      "        [15., 18., 21., 24.],\n",
      "        [27., 30., 33., 36.]])\n"
     ]
    }
   ],
   "source": [
    "# Element-wise Multiplication (Hadamard product)\n",
    "mult_tensor = tensor * tensor_b\n",
    "# Alternative syntax: mult_tensor = torch.mul(tensor, tensor_b)\n",
    "print(f\"Element-wise Multiplication (A * B):\\n{mult_tensor}\")"
   ]
  },
  {
   "cell_type": "code",
   "execution_count": 13,
   "id": "04c78a1f",
   "metadata": {},
   "outputs": [
    {
     "name": "stdout",
     "output_type": "stream",
     "text": [
      "Element-wise Division (A / B):\n",
      "tensor([[0.3333, 0.6667, 1.0000, 1.3333],\n",
      "        [1.6667, 2.0000, 2.3333, 2.6667],\n",
      "        [3.0000, 3.3333, 3.6667, 4.0000]])\n"
     ]
    }
   ],
   "source": [
    "# Element-wise Division\n",
    "div_tensor = tensor / tensor_b\n",
    "# Alternative syntax: div_tensor = torch.div(tensor, tensor_b)\n",
    "print(f\"Element-wise Division (A / B):\\n{div_tensor}\")"
   ]
  },
  {
   "cell_type": "code",
   "execution_count": 14,
   "id": "3a913192",
   "metadata": {},
   "outputs": [
    {
     "name": "stdout",
     "output_type": "stream",
     "text": [
      "Original Tensor A before in-place add:\n",
      "tensor([[ 1,  2,  3,  4],\n",
      "        [ 5,  6,  7,  8],\n",
      "        [ 9, 10, 11, 12]])\n",
      "Tensor A after in-place add:\n",
      "tensor([[ 4,  5,  6,  7],\n",
      "        [ 8,  9, 10, 11],\n",
      "        [12, 13, 14, 15]])\n"
     ]
    }
   ],
   "source": [
    "# --- In-place Operations ---\n",
    "# Operations ending with _ modify the tensor directly\n",
    "print(f\"Original Tensor A before in-place add:\\n{tensor}\")\n",
    "tensor.add_(tensor_b.int()) # Adds tensor_b to tensor *in-place*\n",
    "print(f\"Tensor A after in-place add:\\n{tensor}\")\n",
    "# Reset tensor A for next example\n",
    "tensor = torch.tensor([[1, 2, 3, 4],\n",
    "                      [5, 6, 7, 8],\n",
    "                      [9, 10, 11, 12]])"
   ]
  },
  {
   "cell_type": "code",
   "execution_count": 15,
   "id": "e0259cec",
   "metadata": {},
   "outputs": [
    {
     "name": "stdout",
     "output_type": "stream",
     "text": [
      "Add scalar (10) to tensor:\n",
      "tensor([[11, 12, 13, 14],\n",
      "        [15, 16, 17, 18],\n",
      "        [19, 20, 21, 22]])\n"
     ]
    }
   ],
   "source": [
    "# --- Broadcasting ---\n",
    "# PyTorch can automatically expand the dimensions for operations if sizes are compatible\n",
    "scalar = 10\n",
    "# Add a scalar to the tensor - scalar is \"broadcase\" to match tensor shape\n",
    "add_scalar = tensor + scalar\n",
    "print(f\"Add scalar ({scalar}) to tensor:\\n{add_scalar}\")"
   ]
  },
  {
   "cell_type": "code",
   "execution_count": 16,
   "id": "e4988978",
   "metadata": {},
   "outputs": [
    {
     "name": "stdout",
     "output_type": "stream",
     "text": [
      "Add row vector tensor([10, 20, 30, 40]) to tensor:\n",
      "tensor([[11, 22, 33, 44],\n",
      "        [15, 26, 37, 48],\n",
      "        [19, 30, 41, 52]])\n"
     ]
    }
   ],
   "source": [
    "row_vector = torch.tensor([10, 20, 30, 40]) # A 1x4 tensor\n",
    "# Add row vector to each row of the tensor - vector is broadcast across rows\n",
    "add_vector = tensor + row_vector\n",
    "print(f\"Add row vector {row_vector} to tensor:\\n{add_vector}\")"
   ]
  }
 ],
 "metadata": {
  "kernelspec": {
   "display_name": ".venv",
   "language": "python",
   "name": "python3"
  },
  "language_info": {
   "codemirror_mode": {
    "name": "ipython",
    "version": 3
   },
   "file_extension": ".py",
   "mimetype": "text/x-python",
   "name": "python",
   "nbconvert_exporter": "python",
   "pygments_lexer": "ipython3",
   "version": "3.12.9"
  }
 },
 "nbformat": 4,
 "nbformat_minor": 5
}

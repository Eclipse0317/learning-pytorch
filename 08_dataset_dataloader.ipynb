{
 "cells": [
  {
   "cell_type": "code",
   "execution_count": 1,
   "id": "5b38a55a",
   "metadata": {},
   "outputs": [],
   "source": [
    "import torch\n",
    "from torch.utils.data import Dataset, DataLoader"
   ]
  },
  {
   "cell_type": "markdown",
   "id": "009e6de8",
   "metadata": {},
   "source": [
    "# 1. Creating a Custom Dataset"
   ]
  },
  {
   "cell_type": "code",
   "execution_count": 2,
   "id": "51132c31",
   "metadata": {},
   "outputs": [],
   "source": [
    "class MySyntheticDataset(Dataset):\n",
    "    \"\"\"\n",
    "    A custom Dataset class for our synthetic data.\n",
    "    It needs to implement __init__, __len__, and __getitem__.\n",
    "    \"\"\"\n",
    "    def __init__(self, num_samples=1000, input_features=5, transform=None):\n",
    "        \"\"\"\n",
    "        Args:\n",
    "            num_samples (int): Number of samples to generate.\n",
    "            input_features (int): Number of features for input X.\n",
    "            transform (callable, optional): Optional transform to be applied on a sample.\n",
    "        \"\"\"\n",
    "        print(f\"Initializing MySyntheticDataset with {num_samples} samples...\")\n",
    "        # Generate some synthetic data (replace with loading your actual data)\n",
    "        self.X = torch.randn(num_samples, input_features)\n",
    "\n",
    "        # Example target: Y = sum of first two features + some noise\n",
    "        self.Y = self.X[:, 0] + self.X[:, 1] + torch.randn(num_samples) * 0.5\n",
    "        self.Y = self.Y.unsqueeze(1) # Reshape Y to be [num_samples, 1] for consistency\n",
    "\n",
    "        self.num_samples = num_samples\n",
    "        self.transform = transform\n",
    "        print(\"Dataset initialized.\")\n",
    "\n",
    "    def __len__(self):\n",
    "        # Should return the total number of samples in the dataset\n",
    "        return self.num_samples\n",
    "\n",
    "    def __getitem__(self, idx):\n",
    "        # Should return the sample (input features and target) at the given index 'idx'\n",
    "        # This is where you'd typically load data from disk if needed (e.g., image, text)\n",
    "\n",
    "        # Retrieve the specific sample\n",
    "        sample_x = self.X[idx]\n",
    "        sample_y = self.Y[idx]\n",
    "\n",
    "        # Apply transformations if any (common for image augmentation etc.)\n",
    "        if self.transform:\n",
    "            # Note: Transform logic depends heavily on the data type\n",
    "            # For now, we'll assume transform takes the whole sample tuple\n",
    "            sample_x, sample_y = self.transform((sample_x, sample_y))\n",
    "\n",
    "        return sample_x, sample_y"
   ]
  },
  {
   "cell_type": "markdown",
   "id": "d4327a07",
   "metadata": {},
   "source": [
    "# 2. Instantiate the Dataset"
   ]
  },
  {
   "cell_type": "code",
   "execution_count": 3,
   "id": "5de4f9c4",
   "metadata": {},
   "outputs": [
    {
     "name": "stdout",
     "output_type": "stream",
     "text": [
      "Initializing MySyntheticDataset with 500 samples...\n",
      "Dataset initialized.\n",
      "Dataset length: 500\n",
      "First sample X shape: torch.Size([8])\n",
      "First sample Y shape: torch.Size([1])\n"
     ]
    }
   ],
   "source": [
    "my_dataset = MySyntheticDataset(num_samples=500, input_features=8)\n",
    "\n",
    "print(f\"Dataset length: {len(my_dataset)}\")\n",
    "first_sample_x, first_sample_y = my_dataset[0]\n",
    "print(f\"First sample X shape: {first_sample_x.shape}\") # Should be [input_features]\n",
    "print(f\"First sample Y shape: {first_sample_y.shape}\") # Should be [1]\n"
   ]
  },
  {
   "cell_type": "markdown",
   "id": "6d498a39",
   "metadata": {},
   "source": [
    "# 3. Using the DataLoader"
   ]
  },
  {
   "cell_type": "code",
   "execution_count": 6,
   "id": "4d4d0279",
   "metadata": {},
   "outputs": [],
   "source": [
    "# DataLoader takes a Dataset and provides batched, shuffled iteration.\n",
    "\n",
    "batch_size = 32 # Number of samples per batch\n",
    "# shuffle=True is important for training to ensure batches are different each epoch\n",
    "my_dataloader = DataLoader(dataset=my_dataset,\n",
    "                           batch_size=batch_size,\n",
    "                           shuffle=True,\n",
    "                           num_workers=0) # num_workers > 0 uses subprocesses for data loading"
   ]
  },
  {
   "cell_type": "code",
   "execution_count": 7,
   "id": "0b3e7b6c",
   "metadata": {},
   "outputs": [],
   "source": [
    "# Iterate over the DataLoader to get batches\n",
    "data_iter = iter(my_dataloader)"
   ]
  },
  {
   "cell_type": "code",
   "execution_count": 8,
   "id": "4ae41493",
   "metadata": {},
   "outputs": [
    {
     "name": "stdout",
     "output_type": "stream",
     "text": [
      "First batch:\n",
      "  Input shape: torch.Size([32, 8])\n",
      "  Target shape: torch.Size([32, 1])\n"
     ]
    }
   ],
   "source": [
    "# Get the first batch\n",
    "first_batch_inputs, first_batch_targets = next(data_iter)\n",
    "print(\"First batch:\")\n",
    "print(f\"  Input shape: {first_batch_inputs.shape}\")  # Should be [batch_size, input_features]\n",
    "print(f\"  Target shape: {first_batch_targets.shape}\") # Should be [batch_size, 1]"
   ]
  },
  {
   "cell_type": "code",
   "execution_count": 9,
   "id": "4edf7ec4",
   "metadata": {},
   "outputs": [
    {
     "name": "stdout",
     "output_type": "stream",
     "text": [
      "Example loop over batches:\n",
      "Batch 1: Inputs shape torch.Size([32, 8]), Targets shape torch.Size([32, 1])\n",
      "Batch 2: Inputs shape torch.Size([32, 8]), Targets shape torch.Size([32, 1])\n",
      "Batch 3: Inputs shape torch.Size([32, 8]), Targets shape torch.Size([32, 1])\n",
      "...\n"
     ]
    }
   ],
   "source": [
    "# Example loop\n",
    "print(\"Example loop over batches:\")\n",
    "for i, (batch_inputs, batch_targets) in enumerate(my_dataloader):\n",
    "    # In a real training loop, you'd do the forward/backward pass here\n",
    "    if i < 3: # Print info for the first 3 batches\n",
    "        print(f\"Batch {i+1}: Inputs shape {batch_inputs.shape}, Targets shape {batch_targets.shape}\")\n",
    "    elif i == 3:\n",
    "        print(\"...\") # Stop printing after a few batches\n",
    "        break"
   ]
  },
  {
   "cell_type": "markdown",
   "id": "f33ce43c",
   "metadata": {},
   "source": [
    "# 4. How the Training Loop Changes (Conceptual)"
   ]
  },
  {
   "cell_type": "code",
   "execution_count": null,
   "id": "bae2847c",
   "metadata": {},
   "outputs": [],
   "source": [
    "# Previous training loop (`06_nn_basics`) iterated once per epoch using ALL data.\n",
    "# With a DataLoader, the loop iterates over BATCHES within each epoch.\n",
    "\n",
    "# model = ...\n",
    "# loss_fn = ...\n",
    "# optimizer = ...\n",
    "# num_epochs = ...\n",
    "# device = ... # 'cuda' or 'cpu'\n",
    "\n",
    "# for epoch in range(num_epochs):\n",
    "#     model.train() # Set model to training mode\n",
    "#     total_loss = 0\n",
    "#     num_batches = len(my_dataloader)\n",
    "\n",
    "#     # Loop over batches provided by DataLoader\n",
    "#     for batch_idx, (batch_inputs, batch_targets) in enumerate(my_dataloader):\n",
    "#         # Move data to the appropriate device (CPU/GPU)\n",
    "#         # batch_inputs = batch_inputs.to(device)\n",
    "#         # batch_targets = batch_targets.to(device)\n",
    "\n",
    "#         # 1. Forward pass\n",
    "#         outputs = model(batch_inputs)\n",
    "#         # 2. Calculate loss\n",
    "#         loss = loss_fn(outputs, batch_targets)\n",
    "#         # 3. Backward pass\n",
    "#         loss.backward()\n",
    "#         # 4. Optimizer step\n",
    "#         optimizer.step()\n",
    "#         # 5. Zero gradients\n",
    "#         optimizer.zero_grad()\n",
    "\n",
    "#         total_loss += loss.item()\n",
    "\n",
    "#         # Optional: Print batch progress\n",
    "#         # if (batch_idx + 1) % 10 == 0:\n",
    "#         #     print(f'Epoch [{epoch+1}/{num_epochs}], Batch [{batch_idx+1}/{num_batches}], Loss: {loss.item():.4f}')\n",
    "\n",
    "#     avg_loss = total_loss / num_batches\n",
    "#     print(f\"Epoch {epoch+1}/{num_epochs} Finished, Average Loss: {avg_loss:.4f}\")\n",
    "\n",
    "#     # Optional: Validation Loop would go here\n",
    "#     # model.eval() # Set model to evaluation mode\n",
    "#     # with torch.no_grad():\n",
    "#     #     # Loop over validation dataloader\n",
    "#     #     # Calculate validation loss/metrics\n"
   ]
  }
 ],
 "metadata": {
  "kernelspec": {
   "display_name": ".venv",
   "language": "python",
   "name": "python3"
  },
  "language_info": {
   "codemirror_mode": {
    "name": "ipython",
    "version": 3
   },
   "file_extension": ".py",
   "mimetype": "text/x-python",
   "name": "python",
   "nbconvert_exporter": "python",
   "pygments_lexer": "ipython3",
   "version": "3.12.9"
  }
 },
 "nbformat": 4,
 "nbformat_minor": 5
}

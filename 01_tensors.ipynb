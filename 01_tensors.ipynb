{
 "cells": [
  {
   "cell_type": "markdown",
   "metadata": {},
   "source": [
    "# Import the Pytorch library"
   ]
  },
  {
   "cell_type": "code",
   "execution_count": null,
   "metadata": {},
   "outputs": [
    {
     "name": "stdout",
     "output_type": "stream",
     "text": [
      "Pytorch version: 2.2.2\n"
     ]
    }
   ],
   "source": [
    "import torch\n",
    "print(f\"Pytorch version: {torch.__version__}\") # Check the version"
   ]
  },
  {
   "cell_type": "markdown",
   "metadata": {},
   "source": [
    "# Create Tensors"
   ]
  },
  {
   "cell_type": "markdown",
   "metadata": {},
   "source": [
    "## 1. Create a tensor directly from data (e.g., a Python list)"
   ]
  },
  {
   "cell_type": "code",
   "execution_count": null,
   "metadata": {},
   "outputs": [
    {
     "name": "stdout",
     "output_type": "stream",
     "text": [
      "Tensor created from Python list:\n",
      "tensor([[1, 2, 3],\n",
      "        [4, 5, 6]])\n",
      "\n"
     ]
    }
   ],
   "source": [
    "data = [[1, 2, 3], [4, 5, 6]]\n",
    "x_data = torch.tensor(data)\n",
    "print(f\"Tensor created from Python list:\\n{x_data}\")"
   ]
  },
  {
   "cell_type": "markdown",
   "metadata": {},
   "source": [
    "## 2. Create a tensor of all zeros"
   ]
  },
  {
   "cell_type": "code",
   "execution_count": null,
   "metadata": {},
   "outputs": [
    {
     "name": "stdout",
     "output_type": "stream",
     "text": [
      "Tensor of zeros with shape (2, 3):\n",
      "tensor([[0., 0., 0.],\n",
      "        [0., 0., 0.]])\n",
      "\n"
     ]
    }
   ],
   "source": [
    "# Specify the shape of the tensor\n",
    "shape = (2, 3)\n",
    "zeros_tensor = torch.zeros(shape)\n",
    "print(f\"Tensor of zeros with shape {shape}:\\n{zeros_tensor}\")"
   ]
  },
  {
   "cell_type": "markdown",
   "metadata": {},
   "source": [
    "## 3. Create a tensor of all ones"
   ]
  },
  {
   "cell_type": "code",
   "execution_count": null,
   "metadata": {},
   "outputs": [
    {
     "name": "stdout",
     "output_type": "stream",
     "text": [
      "Tensor of ones with shape (2, 3):\n",
      "tensor([[1., 1., 1.],\n",
      "        [1., 1., 1.]])\n",
      "\n"
     ]
    }
   ],
   "source": [
    "ones_tensor = torch.ones(shape)\n",
    "print(f\"Tensor of ones with shape {shape}:\\n{ones_tensor}\")"
   ]
  },
  {
   "cell_type": "markdown",
   "metadata": {},
   "source": [
    "## 4. Create a tensor with random values"
   ]
  },
  {
   "cell_type": "code",
   "execution_count": null,
   "metadata": {},
   "outputs": [
    {
     "name": "stdout",
     "output_type": "stream",
     "text": [
      "Tensor of random values with shape (2, 3):\n",
      "tensor([[0.5343, 0.2521, 0.6053],\n",
      "        [0.9454, 0.9638, 0.3365]])\n",
      "\n"
     ]
    }
   ],
   "source": [
    "rand_tensor = torch.rand(shape)\n",
    "print(f\"Tensor of random values with shape {shape}:\\n{rand_tensor}\")"
   ]
  },
  {
   "cell_type": "markdown",
   "metadata": {},
   "source": [
    "# Tensor Attributes"
   ]
  },
  {
   "cell_type": "code",
   "execution_count": 7,
   "metadata": {},
   "outputs": [
    {
     "name": "stdout",
     "output_type": "stream",
     "text": [
      "--- Attributes of the random tensor ---\n",
      "Shape: torch.Size([2, 3])\n",
      "Datatype: torch.float32\n",
      "Device: cpu\n"
     ]
    }
   ],
   "source": [
    "# Let's inspect the attributes of the random tensor we created\n",
    "print(\"--- Attributes of the random tensor ---\")\n",
    "print(f\"Shape: {rand_tensor.shape}\") # The dimensions of the tensor\n",
    "print(f\"Datatype: {rand_tensor.dtype}\") # The type of data stored\n",
    "print(f\"Device: {rand_tensor.device}\") # The device on which the tensor is stored"
   ]
  },
  {
   "cell_type": "code",
   "execution_count": null,
   "metadata": {},
   "outputs": [
    {
     "name": "stdout",
     "output_type": "stream",
     "text": [
      "Tensor with dtype float32:\n",
      "tensor([[1., 1.],\n",
      "        [1., 1.]])\n",
      "Tensor's dtype: torch.float32\n",
      "\n",
      "Tensor with dtype int64:\n",
      "tensor([[1, 1],\n",
      "        [1, 1]])\n",
      "Tensor's dtype: torch.int64\n",
      "\n"
     ]
    }
   ],
   "source": [
    "# You can explicitly create tensors with a specific datatype\n",
    "float32_tensor = torch.ones(2, 2, dtype=torch.float32)\n",
    "int64_tensor = torch.ones(2, 2, dtype=torch.int64)\n",
    "print(f\"Tensor with dtype float32:\\n{float32_tensor}\")\n",
    "print(f\"Tensor's dtype: {float32_tensor.dtype}\\n\")\n",
    "print(f\"Tensor with dtype int64:\\n{int64_tensor}\")\n",
    "print(f\"Tensor's dtype: {int64_tensor.dtype}\")"
   ]
  }
 ],
 "metadata": {
  "kernelspec": {
   "display_name": ".venv",
   "language": "python",
   "name": "python3"
  },
  "language_info": {
   "codemirror_mode": {
    "name": "ipython",
    "version": 3
   },
   "file_extension": ".py",
   "mimetype": "text/x-python",
   "name": "python",
   "nbconvert_exporter": "python",
   "pygments_lexer": "ipython3",
   "version": "3.12.9"
  }
 },
 "nbformat": 4,
 "nbformat_minor": 2
}

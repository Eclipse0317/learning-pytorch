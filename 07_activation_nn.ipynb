{
 "cells": [
  {
   "cell_type": "code",
   "execution_count": 1,
   "id": "adcb7637",
   "metadata": {},
   "outputs": [],
   "source": [
    "import torch\n",
    "import torch.nn as nn\n",
    "import torch.optim as optim\n",
    "# import functional API, often used for activations\n",
    "import torch.nn.functional as F"
   ]
  },
  {
   "cell_type": "markdown",
   "id": "fe7143a4",
   "metadata": {},
   "source": [
    "# Defining a Model with Non-Linearity"
   ]
  },
  {
   "cell_type": "code",
   "execution_count": 2,
   "id": "f1c68e2a",
   "metadata": {},
   "outputs": [],
   "source": [
    "class BasicNN(nn.Module):\n",
    "    def __init__(self, input_size, hidden_size, output_size):\n",
    "        super(BasicNN, self).__init__() # Initialize parent class\n",
    "\n",
    "        # Define the layers\n",
    "        self.layer_1 = nn.Linear(input_size, hidden_size) # Input to Hidden layer\n",
    "        self.activation = nn.ReLU()                     # Activation function layer\n",
    "        self.layer_2 = nn.Linear(hidden_size, output_size) # Hidden to Output layer\n",
    "\n",
    "    def forward(self, x):\n",
    "        # Define the sequence of operations (the forward pass)\n",
    "        x = self.layer_1(x)    # Pass through first linear layer\n",
    "        x = self.activation(x) # Apply ReLU activation function\n",
    "        # Alternative using functional API (common practice):\n",
    "        # x = F.relu(self.layer_1(x))\n",
    "\n",
    "        x = self.layer_2(x)    # Pass through second linear layer\n",
    "        return x"
   ]
  },
  {
   "cell_type": "markdown",
   "id": "d2feca81",
   "metadata": {},
   "source": [
    "# Instantiate the Model"
   ]
  },
  {
   "cell_type": "code",
   "execution_count": 3,
   "id": "3fd671d6",
   "metadata": {},
   "outputs": [],
   "source": [
    "input_features = 10\n",
    "hidden_units = 20\n",
    "output_classes = 1"
   ]
  },
  {
   "cell_type": "code",
   "execution_count": 4,
   "id": "720c6198",
   "metadata": {},
   "outputs": [
    {
     "name": "stdout",
     "output_type": "stream",
     "text": [
      "BasicNN(\n",
      "  (layer_1): Linear(in_features=10, out_features=20, bias=True)\n",
      "  (activation): ReLU()\n",
      "  (layer_2): Linear(in_features=20, out_features=1, bias=True)\n",
      ")\n"
     ]
    }
   ],
   "source": [
    "model_nn = BasicNN(input_features, hidden_units, output_classes)\n",
    "print(model_nn)"
   ]
  },
  {
   "cell_type": "markdown",
   "id": "b5ea7c15",
   "metadata": {},
   "source": [
    "# Inspect Parameters"
   ]
  },
  {
   "cell_type": "code",
   "execution_count": 5,
   "id": "26fdf350",
   "metadata": {},
   "outputs": [
    {
     "name": "stdout",
     "output_type": "stream",
     "text": [
      "Name: layer_1.weight, Shape: torch.Size([20, 10])\n",
      "Name: layer_1.bias, Shape: torch.Size([20])\n",
      "Name: layer_2.weight, Shape: torch.Size([1, 20])\n",
      "Name: layer_2.bias, Shape: torch.Size([1])\n"
     ]
    }
   ],
   "source": [
    "for name, param in model_nn.named_parameters():\n",
    "    if param.requires_grad:\n",
    "        print(f\"Name: {name}, Shape: {param.shape}\")\n",
    "        # print(param.data)"
   ]
  },
  {
   "cell_type": "markdown",
   "id": "4721ea00",
   "metadata": {},
   "source": [
    "# Training This Model (Conceptual)"
   ]
  },
  {
   "cell_type": "code",
   "execution_count": null,
   "id": "760ec95b",
   "metadata": {},
   "outputs": [],
   "source": [
    "# To train this model, the steps are largely the same as before:\n",
    "# 1. Data: You'd likely need data with non-linear patterns for this model to show its advantage over the purely linear one.\n",
    "# 2. Loss: Choose an appropriate loss function (e.g., nn.MSELoss for regression).\n",
    "# 3. Optimizer: Choose an optimizer (e.g., optim.SGD or optim.Adam) and pass it the NEW model's parameters:\n",
    "#    optimizer = optim.Adam(model_nn.parameters(), lr=0.001) # Adam is often a good default\n",
    "# 4. Training Loop: The loop structure remains the same:\n",
    "#    - Forward pass: output = model_nn(input_data)\n",
    "#    - Calculate loss: loss = loss_function(output, target_data)\n",
    "#    - Backward pass: loss.backward()\n",
    "#    - Optimizer step: optimizer.step()\n",
    "#    - Zero gradients: optimizer.zero_grad()\n",
    "\n",
    "# We won't repeat the full data generation and training loop code here,\n",
    "# as the focus is on the model definition change. Just replace the model\n",
    "# instantiation in the previous example (`06_nn_basics`) with this new `BasicNN`.\n"
   ]
  }
 ],
 "metadata": {
  "kernelspec": {
   "display_name": ".venv",
   "language": "python",
   "name": "python3"
  },
  "language_info": {
   "codemirror_mode": {
    "name": "ipython",
    "version": 3
   },
   "file_extension": ".py",
   "mimetype": "text/x-python",
   "name": "python",
   "nbconvert_exporter": "python",
   "pygments_lexer": "ipython3",
   "version": "3.12.9"
  }
 },
 "nbformat": 4,
 "nbformat_minor": 5
}

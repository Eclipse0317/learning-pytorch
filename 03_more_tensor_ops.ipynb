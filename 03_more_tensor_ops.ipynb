{
 "cells": [
  {
   "cell_type": "code",
   "execution_count": 2,
   "id": "4cc0ee99",
   "metadata": {},
   "outputs": [],
   "source": [
    "import torch"
   ]
  },
  {
   "cell_type": "markdown",
   "id": "cc749059",
   "metadata": {},
   "source": [
    "# Sample Tensors"
   ]
  },
  {
   "cell_type": "code",
   "execution_count": 3,
   "id": "0c00ef86",
   "metadata": {},
   "outputs": [
    {
     "name": "stdout",
     "output_type": "stream",
     "text": [
      "Original Tensor A (1D):\n",
      "tensor([ 1,  2,  3,  4,  5,  6,  7,  8,  9, 10, 11, 12])\n",
      "Shape: torch.Size([12])\n"
     ]
    }
   ],
   "source": [
    "# A tensor with 12 elements\n",
    "tensor_a = torch.arange(1, 13) # Creates a 1D tensor: [1, 2, ..., 12]\n",
    "print(f\"Original Tensor A (1D):\\n{tensor_a}\\nShape: {tensor_a.shape}\")"
   ]
  },
  {
   "cell_type": "markdown",
   "id": "e78d06ed",
   "metadata": {},
   "source": [
    "# 1. Reshaping Tensors"
   ]
  },
  {
   "cell_type": "code",
   "execution_count": 4,
   "id": "a4d65170",
   "metadata": {},
   "outputs": [
    {
     "name": "stdout",
     "output_type": "stream",
     "text": [
      "Tensor A reshaped to (3, 4):\n",
      "tensor([[ 1,  2,  3,  4],\n",
      "        [ 5,  6,  7,  8],\n",
      "        [ 9, 10, 11, 12]])\n",
      "Shape: torch.Size([3, 4])\n"
     ]
    }
   ],
   "source": [
    "\n",
    "# Use reshape() or view() to change dimensions. Total elements must remain the same.\n",
    "\n",
    "# Reshape to 3 rows, 4 columns\n",
    "tensor_reshaped = tensor_a.reshape(3, 4)\n",
    "# Alternative: tensor_reshaped = tensor_a.view(3, 4)\n",
    "# view() creates a view sharing the same underlying data, reshape() might return a view or a copy.\n",
    "# reshape() is generally more flexible.\n",
    "print(f\"Tensor A reshaped to (3, 4):\\n{tensor_reshaped}\\nShape: {tensor_reshaped.shape}\")"
   ]
  },
  {
   "cell_type": "code",
   "execution_count": 5,
   "id": "472b1975",
   "metadata": {},
   "outputs": [
    {
     "name": "stdout",
     "output_type": "stream",
     "text": [
      "Tensor reshaped back to flat (1D):\n",
      "tensor([ 1,  2,  3,  4,  5,  6,  7,  8,  9, 10, 11, 12])\n",
      "Shape: torch.Size([12])\n"
     ]
    }
   ],
   "source": [
    "# Flatten a multi-dimensional tensor back to 1D\n",
    "# Use -1 to let PyTorch infer the dimension size\n",
    "tensor_flat = tensor_reshaped.reshape(-1)\n",
    "print(f\"Tensor reshaped back to flat (1D):\\n{tensor_flat}\\nShape: {tensor_flat.shape}\")"
   ]
  },
  {
   "cell_type": "markdown",
   "id": "b575bf99",
   "metadata": {},
   "source": [
    "# 2. Matrix Multiplication"
   ]
  },
  {
   "cell_type": "code",
   "execution_count": null,
   "id": "62959388",
   "metadata": {},
   "outputs": [
    {
     "name": "stdout",
     "output_type": "stream",
     "text": [
      "Matrix 1 (3x4):\n",
      "tensor([[ 1.,  2.,  3.,  4.],\n",
      "        [ 5.,  6.,  7.,  8.],\n",
      "        [ 9., 10., 11., 12.]])\n"
     ]
    }
   ],
   "source": [
    "# Requires compatible shapes: (m x n) @ (n x p) results in (m x p)\n",
    "tensor_m1 = tensor_reshaped.float() # Matmul often expects float types\n",
    "print(f\"Matrix 1 (3x4):\\n{tensor_m1}\")"
   ]
  },
  {
   "cell_type": "code",
   "execution_count": 7,
   "id": "0c11594b",
   "metadata": {},
   "outputs": [
    {
     "name": "stdout",
     "output_type": "stream",
     "text": [
      "Matrix 2 (4x2):\n",
      "tensor([[1., 2.],\n",
      "        [3., 4.],\n",
      "        [5., 6.],\n",
      "        [7., 8.]])\n"
     ]
    }
   ],
   "source": [
    "# Create a compatible matrix (4 rows, 2 columns)\n",
    "tensor_m2 = torch.tensor([[1, 2], [3, 4], [5, 6], [7, 8]], dtype=torch.float32)\n",
    "print(f\"Matrix 2 (4x2):\\n{tensor_m2}\")"
   ]
  },
  {
   "cell_type": "code",
   "execution_count": null,
   "id": "6e1594fc",
   "metadata": {},
   "outputs": [
    {
     "name": "stdout",
     "output_type": "stream",
     "text": [
      "Matrix Multiplication Result (3x2):\n",
      "tensor([[ 50.,  60.],\n",
      "        [114., 140.],\n",
      "        [178., 220.]])\n",
      "Shape: torch.Size([3, 2])\n"
     ]
    }
   ],
   "source": [
    "# Perform matrix multiplication using '@' operator\n",
    "matmul_result = tensor_m1 @ tensor_m2\n",
    "# Alternative syntax: matmul_result = torch.matmul(tensor_m1, tensor_m2)\n",
    "print(f\"Matrix Multiplication Result (3x2):\\n{matmul_result}\\nShape: {matmul_result.shape}\")\n",
    "#!!! Contrast with element-wise multiplication (*) which requires SAME shape !!!\n",
    "#This would fail: tensor_m1 * tensor_m2 (shapes (3,4) and (4,2) are different)\n",
    "#If tensor_m1 and tensor_m2 had the *same* shape, '*' would multiply element-by-element."
   ]
  },
  {
   "cell_type": "markdown",
   "id": "199dd7cb",
   "metadata": {},
   "source": [
    "# 3. Aggregation Operations"
   ]
  },
  {
   "cell_type": "code",
   "execution_count": 9,
   "id": "98d9abe7",
   "metadata": {},
   "outputs": [
    {
     "name": "stdout",
     "output_type": "stream",
     "text": [
      "Tensor for aggregation:\n",
      "tensor([[ 1,  2,  3,  4],\n",
      "        [ 5,  6,  7,  8],\n",
      "        [ 9, 10, 11, 12]])\n"
     ]
    }
   ],
   "source": [
    "# Use our (3, 4) reshaped tensor again\n",
    "print(f\"Tensor for aggregation:\\n{tensor_reshaped}\")"
   ]
  },
  {
   "cell_type": "code",
   "execution_count": 10,
   "id": "f93c7154",
   "metadata": {},
   "outputs": [
    {
     "name": "stdout",
     "output_type": "stream",
     "text": [
      "Sum of all elements: 78\n"
     ]
    }
   ],
   "source": [
    "# Sum of all elements\n",
    "total_sum = torch.sum(tensor_reshaped)\n",
    "# Alternative: total_sum = tensor_reshaped.sum()\n",
    "print(f\"Sum of all elements: {total_sum.item()}\") # .item() extracts the single value"
   ]
  },
  {
   "cell_type": "code",
   "execution_count": 11,
   "id": "7ab8d0e7",
   "metadata": {},
   "outputs": [
    {
     "name": "stdout",
     "output_type": "stream",
     "text": [
      "Mean of all elements: 6.5\n"
     ]
    }
   ],
   "source": [
    "# Mean of all elements (requires float type)\n",
    "total_mean = torch.mean(tensor_reshaped.float())\n",
    "# Alternative: total_mean = tensor_reshaped.float().mean()\n",
    "print(f\"Mean of all elements: {total_mean.item()}\")"
   ]
  },
  {
   "cell_type": "code",
   "execution_count": 12,
   "id": "91085494",
   "metadata": {},
   "outputs": [
    {
     "name": "stdout",
     "output_type": "stream",
     "text": [
      "Sum along columns (dim=0): tensor([15, 18, 21, 24])\n",
      "Shape: torch.Size([4])\n"
     ]
    }
   ],
   "source": [
    "# Sum along a specific dimension (dim)\n",
    "# Sum along columns (sum each column, collapse rows -> dim=0)\n",
    "sum_cols = torch.sum(tensor_reshaped, dim=0)\n",
    "print(f\"Sum along columns (dim=0): {sum_cols}\\nShape: {sum_cols.shape}\")"
   ]
  },
  {
   "cell_type": "code",
   "execution_count": 13,
   "id": "5ac9c6f2",
   "metadata": {},
   "outputs": [
    {
     "name": "stdout",
     "output_type": "stream",
     "text": [
      "Sum along rows (dim=1): tensor([10, 26, 42])\n",
      "Shape: torch.Size([3])\n"
     ]
    }
   ],
   "source": [
    "# Sum along rows (sum each row, collapse columns -> dim=1)\n",
    "sum_rows = torch.sum(tensor_reshaped, dim=1)\n",
    "print(f\"Sum along rows (dim=1): {sum_rows}\\nShape: {sum_rows.shape}\")"
   ]
  },
  {
   "cell_type": "code",
   "execution_count": 15,
   "id": "c4931b06",
   "metadata": {},
   "outputs": [
    {
     "name": "stdout",
     "output_type": "stream",
     "text": [
      "Max value in each row: tensor([ 4,  8, 12])\n",
      "Index of max value in each row: tensor([3, 3, 3])\n"
     ]
    }
   ],
   "source": [
    "# Max value and its index\n",
    "max_val, max_idx = torch.max(tensor_reshaped, dim=1) # Find max in each row (along dim=1)\n",
    "print(f\"Max value in each row: {max_val}\")\n",
    "print(f\"Index of max value in each row: {max_idx}\")"
   ]
  },
  {
   "cell_type": "code",
   "execution_count": 16,
   "id": "d7849c5e",
   "metadata": {},
   "outputs": [
    {
     "name": "stdout",
     "output_type": "stream",
     "text": [
      "Minimum value in tensor: 1\n"
     ]
    }
   ],
   "source": [
    "# Min value\n",
    "min_val = torch.min(tensor_reshaped) # Overall minimum\n",
    "print(f\"Minimum value in tensor: {min_val.item()}\")"
   ]
  }
 ],
 "metadata": {
  "kernelspec": {
   "display_name": ".venv",
   "language": "python",
   "name": "python3"
  },
  "language_info": {
   "codemirror_mode": {
    "name": "ipython",
    "version": 3
   },
   "file_extension": ".py",
   "mimetype": "text/x-python",
   "name": "python",
   "nbconvert_exporter": "python",
   "pygments_lexer": "ipython3",
   "version": "3.12.9"
  }
 },
 "nbformat": 4,
 "nbformat_minor": 5
}
